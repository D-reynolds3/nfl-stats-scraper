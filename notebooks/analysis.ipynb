{
 "cells": [
  {
   "cell_type": "code",
   "execution_count": null,
   "id": "0838d34d",
   "metadata": {},
   "outputs": [],
   "source": [
    "import pandas as pd\n",
    "import matplotlib.pyplot as plt\n",
    "\n",
    "# Load receiving stats\n",
    "receiving = pd.read_csv(\"../data/receiving_2024.csv\")\n",
    "\n",
    "# Preview\n",
    "receiving.head()\n",
    "\n",
    "# Top 10 in receiving yards\n",
    "top_receivers = receiving.sort_values(\"Yds\", ascending=False).head(10)\n",
    "\n",
    "plt.barh(top_receivers[\"Player\"], top_receivers[\"Yds\"])\n",
    "plt.xlabel(\"Receiving Yards\")\n",
    "plt.title(\"Top 10 Receivers (2024)\")\n",
    "plt.gca().invert_yaxis()\n",
    "plt.show()\n"
   ]
  }
 ],
 "metadata": {
  "language_info": {
   "name": "python"
  }
 },
 "nbformat": 4,
 "nbformat_minor": 5
}
